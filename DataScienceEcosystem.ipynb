{
 "cells": [
  {
   "cell_type": "markdown",
   "id": "8cfffbda-3ac0-440b-99bd-e809eaff0b3e",
   "metadata": {},
   "source": [
    "# Data Science Tools and Ecosystem"
   ]
  },
  {
   "cell_type": "markdown",
   "id": "0fa82810-20c8-471f-8c3e-336bd789a198",
   "metadata": {},
   "source": [
    "# In this notebook, Data Science Tools and Ecosystem are summarized."
   ]
  },
  {
   "cell_type": "markdown",
   "id": "6f34fe8c-1e59-4dac-b5b2-d5134015690a",
   "metadata": {},
   "source": [
    "## **Objectives**\n",
    "\n",
    "* List popular languages for Data Science\n",
    "    \n",
    "* List common libraries used by Data Scientists\n",
    "    \n",
    "* List Popular Data Science Tools\n",
    "    \n",
    "* Evaluate arithmetic expressions in Python"
   ]
  },
  {
   "cell_type": "markdown",
   "id": "e7773b35-3508-4fae-a82a-5ed042339735",
   "metadata": {},
   "source": [
    "Some of the popular languages that Data Scientists use are:\n",
    "    \n",
    "    1. Python\n",
    "    \n",
    "    2. Julia\n",
    "    \n",
    "    3. R"
   ]
  },
  {
   "cell_type": "markdown",
   "id": "1101bd4b-3b80-4b24-8f4e-1fe175038691",
   "metadata": {},
   "source": [
    "Some of the commonly used libraries used by Data Scientists include:\n",
    "    \n",
    "    1.Pandas\n",
    "    \n",
    "    1.Matplolib\n",
    "    \n",
    "    1.NumPy"
   ]
  },
  {
   "cell_type": "markdown",
   "id": "59003530-8003-4251-a457-b480ede3bb4d",
   "metadata": {},
   "source": [
    "| Data Science Tools |\n",
    "|:--------:|\n",
    "| Jupyter Notebooks   |\n",
    "|  RStudio IDE   |\n",
    "|  GitHub  |"
   ]
  },
  {
   "cell_type": "markdown",
   "id": "38c434ce-2b2f-4fb6-8656-789c72b63514",
   "metadata": {},
   "source": [
    "### Below are a few examples of evaluating arithmetic expressions in Python."
   ]
  },
  {
   "cell_type": "code",
   "execution_count": 1,
   "id": "5127e23d-40ac-433e-9d17-c4ca346cdfd4",
   "metadata": {
    "tags": []
   },
   "outputs": [
    {
     "data": {
      "text/plain": [
       "17"
      ]
     },
     "execution_count": 1,
     "metadata": {},
     "output_type": "execute_result"
    }
   ],
   "source": [
    "# This a simple arithmetic expression to mutiply then add integers.\n",
    "\n",
    "(3*4)+5"
   ]
  },
  {
   "cell_type": "code",
   "execution_count": 2,
   "id": "dae82233-adbf-4410-af0b-4d3de56c6ba7",
   "metadata": {
    "tags": []
   },
   "outputs": [
    {
     "data": {
      "text/plain": [
       "3.3333333333333335"
      ]
     },
     "execution_count": 2,
     "metadata": {},
     "output_type": "execute_result"
    }
   ],
   "source": [
    "# This will convert 200 minutes to hours by diving by 60.\n",
    "200 / 60"
   ]
  },
  {
   "cell_type": "markdown",
   "id": "53f5fa67-1a65-440a-885a-6bc4cb59212d",
   "metadata": {},
   "source": [
    "## Author\n",
    "\n",
    "Silvio Romero"
   ]
  },
  {
   "cell_type": "code",
   "execution_count": null,
   "id": "223bc38c-69c9-4e10-a857-804025ca68bd",
   "metadata": {},
   "outputs": [],
   "source": []
  }
 ],
 "metadata": {
  "kernelspec": {
   "display_name": "Python",
   "language": "python",
   "name": "conda-env-python-py"
  },
  "language_info": {
   "codemirror_mode": {
    "name": "ipython",
    "version": 3
   },
   "file_extension": ".py",
   "mimetype": "text/x-python",
   "name": "python",
   "nbconvert_exporter": "python",
   "pygments_lexer": "ipython3",
   "version": "3.7.12"
  }
 },
 "nbformat": 4,
 "nbformat_minor": 5
}
